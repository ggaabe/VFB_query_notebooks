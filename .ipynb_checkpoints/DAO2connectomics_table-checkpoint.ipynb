{
 "cells": [
  {
   "cell_type": "code",
   "execution_count": 5,
   "metadata": {},
   "outputs": [],
   "source": [
    "import json\n",
    "import requests\n",
    "import pandas as pd"
   ]
  },
  {
   "cell_type": "markdown",
   "metadata": {},
   "source": [
    "### Get JSON respresentation of Drosophila anatomy ontology\n",
    "\n",
    "Drosophila anatomy ontology, json representation is pulled from a persistent URL.  This will always pull the latest version.  To refer to this version in future, use the version IRI (below) with extension -> .json,\n",
    "\n"
   ]
  },
  {
   "cell_type": "code",
   "execution_count": 13,
   "metadata": {},
   "outputs": [
    {
     "data": {
      "text/plain": [
       "'http://purl.obolibrary.org/obo/fbbt/releases/2018-02-21/fbbt.owl'"
      ]
     },
     "execution_count": 13,
     "metadata": {},
     "output_type": "execute_result"
    }
   ],
   "source": [
    "fbbt_file = requests.get(\"http://purl.obolibrary.org/obo/fbbt/fbbt.json\") # Persistent URL\n",
    "fbbt_graphs = json.loads(fbbt_file.text)\n",
    "fbbt = fbbt_graphs['graphs'][0]\n",
    "fbbt['meta']['version']"
   ]
  },
  {
   "cell_type": "markdown",
   "metadata": {},
   "source": [
    "### Generate pandas DataFrame with pre and post columns & save as csv\n",
    "\n",
    "* Class level representation needs to be simplified to ignore quantifiers:\n",
    "   * All X synapsed_to some Y; all A synapsed_by some B -> pre:X post:Y , pre:B - post:A\n",
    "* This version uses full iri's in each column.  For labels use node['lbl']\n"
   ]
  },
  {
   "cell_type": "code",
   "execution_count": 8,
   "metadata": {},
   "outputs": [],
   "source": [
    "lookup = { n['lbl']: n['id'] for n in fbbt['nodes'] if 'lbl' in n.keys()}\n",
    "synapsed_by = [ {'pre': e['obj'], 'post': e['sub']} for e in fbbt['edges'] if lookup['synapsed_by'] == e['pred'] ]\n",
    "synapsed_to = [ {'pre': e['sub'], 'post': e['obj']} for e in fbbt['edges'] if lookup['synapsed_to'] == e['pred'] ]\n",
    "sb = pd.DataFrame.from_records(synapsed_by)\n",
    "all = sb.append(pd.DataFrame.from_records(synapsed_to))\n",
    "all.drop_duplicates(inplace=True)\n",
    "\n",
    "all.to_csv(\"connection_tab.tsv\", sep=\"\\t\", index=False)"
   ]
  },
  {
   "cell_type": "markdown",
   "metadata": {},
   "source": []
  }
 ],
 "metadata": {
  "kernelspec": {
   "display_name": "Python 3",
   "language": "python",
   "name": "python3"
  },
  "language_info": {
   "codemirror_mode": {
    "name": "ipython",
    "version": 3
   },
   "file_extension": ".py",
   "mimetype": "text/x-python",
   "name": "python",
   "nbconvert_exporter": "python",
   "pygments_lexer": "ipython3",
   "version": "3.6.3"
  }
 },
 "nbformat": 4,
 "nbformat_minor": 2
}
